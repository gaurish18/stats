{
 "cells": [
  {
   "cell_type": "code",
   "execution_count": null,
   "id": "6f51bd03-ea85-4e52-8761-0fc908551cc9",
   "metadata": {},
   "outputs": [],
   "source": [
    "1.The three measures of central tendency are;\n",
    "a)mean\n",
    "b)median \n",
    "c)mode \n",
    "\n",
    "2.The difference between mean, median and mode are:\n",
    "    mean is the avg. value of given observations.\n",
    "    median is the middle value of the given observation.\n",
    "    mode is the most repeated value of given observation.\n",
    "    \n",
    "    A measure of central tendency is a summary measure that attempts to describe a whole set of data with a single value\n",
    "    that represents the middle or centre of its distribution.\n",
    "    The mode is the most frequent value. The median is the middle number in an ordered data set. \n",
    "    The mean is the sum of all values divided by the total number of values.\n"
   ]
  },
  {
   "cell_type": "code",
   "execution_count": 2,
   "id": "d0294f4c-d48f-4c0d-9ed6-17900de24240",
   "metadata": {},
   "outputs": [],
   "source": [
    "import numpy as np"
   ]
  },
  {
   "cell_type": "code",
   "execution_count": 3,
   "id": "8501ff97-2ba0-4a43-ac6e-6c4df64177ce",
   "metadata": {},
   "outputs": [],
   "source": [
    "##Q3. Measure the three measures of central tendency for the given height data:\n",
    "\n",
    "[178,177,176,177,178.2,178,175,179,180,175,178.9,176.2,177,172.5,178,176.5]"
   ]
  },
  {
   "cell_type": "code",
   "execution_count": 5,
   "id": "1fb43714-aa21-42e5-bff9-411df56c0c34",
   "metadata": {},
   "outputs": [],
   "source": [
    "height= [178,177,176,177,178.2,178,175,179,180,175,178.9,176.2,177,172.5,178,176.5]"
   ]
  },
  {
   "cell_type": "code",
   "execution_count": 6,
   "id": "9bf455c2-6e4a-47e7-909a-6e6c09c778c2",
   "metadata": {},
   "outputs": [
    {
     "data": {
      "text/plain": [
       "177.01875"
      ]
     },
     "execution_count": 6,
     "metadata": {},
     "output_type": "execute_result"
    }
   ],
   "source": [
    "np.mean(height)"
   ]
  },
  {
   "cell_type": "code",
   "execution_count": 7,
   "id": "d14085c0-d45c-4b9a-9dee-361da46b82d3",
   "metadata": {},
   "outputs": [
    {
     "data": {
      "text/plain": [
       "177.0"
      ]
     },
     "execution_count": 7,
     "metadata": {},
     "output_type": "execute_result"
    }
   ],
   "source": [
    "np.median(height)"
   ]
  },
  {
   "cell_type": "code",
   "execution_count": 8,
   "id": "b96e5d7f-67ab-461d-91ee-b7a06abbbc14",
   "metadata": {},
   "outputs": [],
   "source": [
    "from scipy import stats"
   ]
  },
  {
   "cell_type": "code",
   "execution_count": 9,
   "id": "ee6800cf-7f76-4d28-8690-5d9b13a2674e",
   "metadata": {},
   "outputs": [
    {
     "name": "stderr",
     "output_type": "stream",
     "text": [
      "/tmp/ipykernel_119/1690947930.py:1: FutureWarning: Unlike other reduction functions (e.g. `skew`, `kurtosis`), the default behavior of `mode` typically preserves the axis it acts along. In SciPy 1.11.0, this behavior will change: the default value of `keepdims` will become False, the `axis` over which the statistic is taken will be eliminated, and the value None will no longer be accepted. Set `keepdims` to True or False to avoid this warning.\n",
      "  stats.mode(height)\n"
     ]
    },
    {
     "data": {
      "text/plain": [
       "ModeResult(mode=array([177.]), count=array([3]))"
      ]
     },
     "execution_count": 9,
     "metadata": {},
     "output_type": "execute_result"
    }
   ],
   "source": [
    "stats.mode(height)"
   ]
  },
  {
   "cell_type": "code",
   "execution_count": 12,
   "id": "96ea932a-3ab8-4d46-800c-2132ae554145",
   "metadata": {},
   "outputs": [
    {
     "data": {
      "text/plain": [
       "[178,\n",
       " 177,\n",
       " 176,\n",
       " 177,\n",
       " 178.2,\n",
       " 178,\n",
       " 175,\n",
       " 179,\n",
       " 180,\n",
       " 175,\n",
       " 178.9,\n",
       " 176.2,\n",
       " 177,\n",
       " 172.5,\n",
       " 178,\n",
       " 176.5]"
      ]
     },
     "execution_count": 12,
     "metadata": {},
     "output_type": "execute_result"
    }
   ],
   "source": [
    "## Q4. Find the standard deviation for the given data:\n",
    "\n",
    "[178,177,176,177,178.2,178,175,179,180,175,178.9,176.2,177,172.5,178,176.5]"
   ]
  },
  {
   "cell_type": "code",
   "execution_count": 13,
   "id": "9141deda-06d4-4812-832e-fdd6ee4dc039",
   "metadata": {},
   "outputs": [],
   "source": [
    "height_lst = [178,177,176,177,178.2,178,175,179,180,175,178.9,176.2,177,172.5,178,176.5]"
   ]
  },
  {
   "cell_type": "code",
   "execution_count": 14,
   "id": "87630cc9-cf84-404b-9b74-98a8d773578d",
   "metadata": {},
   "outputs": [
    {
     "data": {
      "text/plain": [
       "1.7885814036548633"
      ]
     },
     "execution_count": 14,
     "metadata": {},
     "output_type": "execute_result"
    }
   ],
   "source": [
    "std=np.std(height_lst)\n",
    "std"
   ]
  },
  {
   "cell_type": "code",
   "execution_count": null,
   "id": "da327463-1a85-4cbd-a8d0-4cbff939d2de",
   "metadata": {},
   "outputs": [],
   "source": [
    "5.Measures of dispersion such as range, variance, and standard deviation are used \n",
    "to describe the spread of a dataset by providing a numerical representation of how much the data points are\n",
    "scattered or deviated from the central tendency.\n",
    "\n",
    "The range of a dataset is the difference between the largest and smallest values in the dataset. It provides\n",
    "a simple measure of the spread of the data, but it can be sensitive to outliers. \n",
    "For example, consider the following dataset of test scores: 60, 70, 80, 90, 100. \n",
    "The range of this dataset is 40 (100 - 60), which indicates that the scores are spread out over a wide range.\n",
    "\n",
    "The variance of a dataset measures how much the data points deviate from the mean,\n",
    "and it is calculated by taking the average of the squared differences between each data point\n",
    "and the mean. The variance is useful for understanding the variability of the data, but its units are squared, \n",
    "which makes it difficult to interpret. For example, consider the same dataset of test scores: 60, 70, 80, 90, 100. \n",
    "The mean of this dataset is 80, and the variance is calculated\n",
    "as follows: ((60-80)^2 + (70-80)^2 + (80-80)^2 + (90-80)^2 + (100-80)^2) / 5 = 200. The variance of this dataset is 200,\n",
    "which indicates that the scores are somewhat spread out from the mean.\n",
    "\n",
    "The standard deviation of a dataset is the square root of the variance, and it is often used instead \n",
    "of the variance because it has the same units as the original data. The standard deviation measures \n",
    "the spread of the data in the same units as the data itself, and it is a common measure of dispersion. \n",
    "For example, using the same dataset of test scores: 60, 70, 80, 90, 100. \n",
    "The mean is 80 and the standard deviation is calculated\n",
    "as follows: sqrt(((60-80)^2 + (70-80)^2 + (80-80)^2 + (90-80)^2 + (100-80)^2) / 5) = 14.14.\n",
    "The standard deviation of this dataset is 14.14, which indicates that the scores are somewhat spread out from the mean."
   ]
  },
  {
   "cell_type": "code",
   "execution_count": null,
   "id": "2438a1c4-6a56-4977-89cb-804c44e907d3",
   "metadata": {},
   "outputs": [],
   "source": [
    "6. A Venn diagram is an illustration that uses circles to show the relationships\n",
    "among things or finite groups of things.\n",
    "Circles that overlap have a commonality while circles that do not overlap do not share those traits.\n",
    "\n",
    "Venn diagrams help to visually represent the similarities and differences between two concepts.\n"
   ]
  },
  {
   "cell_type": "code",
   "execution_count": null,
   "id": "4b565cf1-2e10-4cc3-b77a-e2ca86da7878",
   "metadata": {},
   "outputs": [],
   "source": [
    "7. For the two given sets A = (2,3,4,5,6,7) & B = (0,2,6,8,10). Find:\n",
    "\n",
    "(i) A intersection B\n",
    "\n",
    "(ii) A union B\n",
    "\n",
    "   A intersection B = (2,6)\n",
    "   A union B = (0,2,3,4,5,6,7,8,10)"
   ]
  },
  {
   "cell_type": "code",
   "execution_count": null,
   "id": "9f47fed3-99c9-42b9-8579-c9a0e2abe032",
   "metadata": {},
   "outputs": [],
   "source": [
    "8. Skewness in data refers to the degree of asymmetry in the distribution of the data. \n",
    "It is a measure of the extent to which the data is not symmetrical about the mean.\n",
    "A distribution is said to be symmetric if it is evenly distributed about the mean,\n",
    "meaning that the left side of the distribution is a mirror image of the right side. \n",
    "A distribution is said to be skewed if it is not symmetric and the data is\n",
    "more spread out on one side of the mean than the other.\n",
    "\n",
    "9.If the data is right skewed, the mean will be greater than the median.\n",
    "The reason for this is that a right-skewed distribution has a longer right tail,\n",
    "which pulls the mean to the right (i.e., makes it larger) relative to the median.\n",
    "\n",
    "10. Covariance and correlation are both measures of the relationship between two variables,\n",
    " but they have different properties and uses in statistical analysis.\n",
    "    \n",
    "    Covariance measures how much two variables vary together. Specifically,\n",
    "    it measures the extent to which changes in one variable are associated with changes in the other variable.\n",
    "    A positive covariance means that the two variables tend to increase or decrease together,\n",
    "    while a negative covariance means that they tend to move in opposite directions.\n",
    "    \n",
    "    Correlation, on the other hand, measures the strength and direction of the linear relationship between two variables.\n",
    "    Unlike covariance, correlation is a standardized measure that ranges from -1 to +1. A correlation of +1 means that\n",
    "    the two variables are perfectly positively correlated (i.e., they move in lockstep),\n",
    "    while a correlation of -1 means that they are perfectly negatively correlated \n",
    "    (i.e., one variable increases as the other decreases).\n",
    "    A correlation of 0 means that there is no linear relationship between the variables.\n",
    "    \n",
    "    Both covariance and correlation are used in statistical analysis to assess the relationship\n",
    "    between two variables. However, correlation is typically preferred because it is standardized\n",
    "    and therefore easier to interpret.\n",
    "    \n",
    "11.Mean is the average of the given numbers and is calculated by dividing the sum of given numbers\n",
    "    by the total number of numbers.\n",
    "\n",
    "    Mean = (Sum of all the observations/Total number of observations) \n",
    "    "
   ]
  },
  {
   "cell_type": "code",
   "execution_count": 1,
   "id": "9586cbbc-af99-4ee7-a7f1-2e6e90af9ded",
   "metadata": {},
   "outputs": [],
   "source": [
    "age = [27,24,23,20,25,28,24]"
   ]
  },
  {
   "cell_type": "code",
   "execution_count": 4,
   "id": "0f78ef13-a9ad-49d5-b76e-778e526c901a",
   "metadata": {},
   "outputs": [],
   "source": [
    "import numpy as np"
   ]
  },
  {
   "cell_type": "code",
   "execution_count": 5,
   "id": "30f9889f-b974-400c-83af-1afd89832f06",
   "metadata": {},
   "outputs": [],
   "source": [
    "mean = np.mean(age)"
   ]
  },
  {
   "cell_type": "code",
   "execution_count": 6,
   "id": "d4bdc8ea-4183-4f5c-ad71-27347126b47e",
   "metadata": {},
   "outputs": [
    {
     "data": {
      "text/plain": [
       "24.428571428571427"
      ]
     },
     "execution_count": 6,
     "metadata": {},
     "output_type": "execute_result"
    }
   ],
   "source": [
    "mean"
   ]
  },
  {
   "cell_type": "code",
   "execution_count": null,
   "id": "6c93fefc-5760-46c4-8f50-640c7c278825",
   "metadata": {},
   "outputs": [],
   "source": [
    "12.For a normal distribution, the three common measures of central tendency are the mean, median, and mode.\n",
    "In a perfectly normal distribution, all three measures of central tendency are equal.\n",
    "\n",
    "However, in real-world scenarios, it is possible for the mean, median, and mode to differ slightly due to factors\n",
    "such as sampling error or the presence of outliers in the data.\n",
    "\n",
    "When the distribution is symmetrical, the mean, median, and mode will be very close to each other.\n",
    "When the distribution is skewed, the mean will generally be pulled in the direction of the skewness,\n",
    "while the median will be closer to the center of the distribution.\n",
    "In this case, the mode may not be a useful measure of central tendency since it may not\n",
    "be a representative value for the data.\n",
    "\n",
    "Overall, the relationship between the measures of central tendency in a normal distribution depends on \n",
    "the shape and symmetry of the distribution.\n",
    "\n",
    "\n",
    "13.One of the main differences between covariance and correlation is that covariance is not standardized, \n",
    "which means that its value depends on the units of the variables being measured.\n",
    "In contrast, correlation is standardized, which means that it is not affected by the units of measurement.\n",
    "\n",
    "Another difference is that while covariance only measures the direction of the relationship between two variables,\n",
    "correlation also measures the strength of the relationship.\n",
    "\n",
    "This makes correlation a more useful measure when comparing the relationship between two different pairs of variables.\n",
    "\n",
    "\n",
    "14.Outliers can have a significant impact on measures of central tendency and dispersion.\n",
    "Central tendency measures, such as the mean and median, are sensitive to outliers because they\n",
    "are influenced by extreme values that are far from the typical values. \n",
    "Dispersion measures, such as the range and standard deviation, can also be affected by outliers\n",
    "because they increase the variability in the data.\n",
    "\n",
    "For example, consider a data set of salaries for a small company with 10 employees:\n",
    "\n",
    "$30,000, $40,000, $50,000, $60,000, $70,000, $80,000, $90,000, $100,000, $200,000, $1,000,000\n",
    "\n",
    "The mean salary for this data set is $207,000, which is significantly higher than the typical salary of the company.\n",
    "This is because the outlier value of $1,000,000 is pulling the mean upward.\n",
    "The median salary, however, is $75,000, which is a more accurate representation of the typical salary in the company.\n",
    "\n",
    "Additionally, the range of the data set is $970,000, which is heavily influenced by the outlier value.\n",
    "The standard deviation is also impacted by the outlier, resulting in a large value of approximately $346,410. \n",
    "These measures suggest that the salaries in this company are highly varied, when in reality they are not.\n",
    "\n"
   ]
  }
 ],
 "metadata": {
  "kernelspec": {
   "display_name": "Python 3 (ipykernel)",
   "language": "python",
   "name": "python3"
  },
  "language_info": {
   "codemirror_mode": {
    "name": "ipython",
    "version": 3
   },
   "file_extension": ".py",
   "mimetype": "text/x-python",
   "name": "python",
   "nbconvert_exporter": "python",
   "pygments_lexer": "ipython3",
   "version": "3.10.8"
  }
 },
 "nbformat": 4,
 "nbformat_minor": 5
}
